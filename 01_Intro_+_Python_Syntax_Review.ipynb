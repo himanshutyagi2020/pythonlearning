{
  "cells": [
    {
      "cell_type": "markdown",
      "metadata": {
        "id": "view-in-github",
        "colab_type": "text"
      },
      "source": [
        "<a href=\"https://colab.research.google.com/github/himanshutyagi2020/pythonlearning/blob/master/01_Intro_%2B_Python_Syntax_Review.ipynb\" target=\"_parent\"><img src=\"https://colab.research.google.com/assets/colab-badge.svg\" alt=\"Open In Colab\"/></a>"
      ]
    },
    {
      "cell_type": "markdown",
      "metadata": {
        "id": "nAOYuKtZ0vnD"
      },
      "source": [
        "## Learning"
      ]
    },
    {
      "cell_type": "markdown",
      "metadata": {
        "id": "Chhthpu50vnG"
      },
      "source": [
        "## Intermediate Python\n",
        "\n",
        "\n",
        "\n"
      ]
    },
    {
      "cell_type": "markdown",
      "metadata": {
        "id": "kmNPJsrD0vnH"
      },
      "source": [
        "# Before we begin, be sure you have Python 3 installed!\n",
        "\n",
        "Choose either way:\n",
        "1. Download from Anaconda\n",
        " * go to https://www.anaconda.com/products/individual at the bottom of the page\n",
        " \n",
        "## Or \n",
        "\n",
        "1. install Python 3 if you have not already\n",
        " * go to https://www.python.org/downloads/\n",
        " * Macs have 2.7.X installed by default–it’s OK to have Python 2 and 3 co-resident\n",
        "* install Jupyter (__`sudo pip3 install jupyter`__)\n",
        "* this will allow you to run/edit Jupyter notebooks locally\n",
        "  * if you're having trouble installing Jupyter, the notebooks can be run/edited at http://tmpnb.org\n",
        "* I recommend you work in a Jupyter notebook or VS Code\n",
        "https://code.visualstudio.com/Download\n",
        "https://code.visualstudio.com/docs/languages/python#_jupyter-notebooks\n",
        "\n"
      ]
    },
    {
      "cell_type": "markdown",
      "metadata": {
        "id": "Hfd1QnR60vnS"
      },
      "source": [
        "# Python Syntax Review\n",
        "\n"
      ]
    },
    {
      "cell_type": "markdown",
      "metadata": {
        "id": "vUsH1txF0vnS"
      },
      "source": [
        "## *Dynamic* typing, no declarations"
      ]
    },
    {
      "cell_type": "code",
      "execution_count": 5,
      "metadata": {
        "tags": [],
        "colab": {
          "base_uri": "https://localhost:8080/"
        },
        "id": "Z_5wKQ5W0vnS",
        "outputId": "ae56b577-c024-401a-a33e-e374811b9098"
      },
      "outputs": [
        {
          "output_type": "stream",
          "name": "stdout",
          "text": [
            "3.9\n",
            "Python\n"
          ]
        }
      ],
      "source": [
        "x = 3.9\n",
        "print(x)\n",
        "x = \"Python\"\n",
        "print(x) # I am in  edit mode"
      ]
    },
    {
      "cell_type": "markdown",
      "metadata": {
        "id": "yMEDseD50vnT"
      },
      "source": [
        "## ...but strongly typed"
      ]
    },
    {
      "cell_type": "code",
      "execution_count": 6,
      "metadata": {
        "colab": {
          "base_uri": "https://localhost:8080/",
          "height": 209
        },
        "id": "NTaW-Pw20vnU",
        "outputId": "b9ae55f5-6047-49d9-9f29-1933ee4f3dcd"
      },
      "outputs": [
        {
          "output_type": "error",
          "ename": "TypeError",
          "evalue": "ignored",
          "traceback": [
            "\u001b[0;31m---------------------------------------------------------------------------\u001b[0m",
            "\u001b[0;31mTypeError\u001b[0m                                 Traceback (most recent call last)",
            "\u001b[0;32m<ipython-input-6-d7fb9aa5cd36>\u001b[0m in \u001b[0;36m<module>\u001b[0;34m\u001b[0m\n\u001b[1;32m      1\u001b[0m \u001b[0mx\u001b[0m \u001b[0;34m=\u001b[0m \u001b[0;34m'hello'\u001b[0m\u001b[0;34m\u001b[0m\u001b[0;34m\u001b[0m\u001b[0m\n\u001b[0;32m----> 2\u001b[0;31m \u001b[0my\u001b[0m \u001b[0;34m=\u001b[0m \u001b[0mx\u001b[0m \u001b[0;34m+\u001b[0m \u001b[0;36m1\u001b[0m\u001b[0;34m\u001b[0m\u001b[0;34m\u001b[0m\u001b[0m\n\u001b[0m\u001b[1;32m      3\u001b[0m \u001b[0my\u001b[0m\u001b[0;34m\u001b[0m\u001b[0;34m\u001b[0m\u001b[0m\n",
            "\u001b[0;31mTypeError\u001b[0m: can only concatenate str (not \"int\") to str"
          ]
        }
      ],
      "source": [
        "x = 'hello'\n",
        "y = x + 1\n",
        "y"
      ]
    },
    {
      "cell_type": "markdown",
      "metadata": {
        "id": "npVOfSZn0vnU"
      },
      "source": [
        "## if/elif/else"
      ]
    },
    {
      "cell_type": "code",
      "execution_count": 7,
      "metadata": {
        "tags": [],
        "colab": {
          "base_uri": "https://localhost:8080/"
        },
        "id": "7MKSyrXh0vnV",
        "outputId": "89c3bda7-d8a9-4940-af6a-1481fb3247ba"
      },
      "outputs": [
        {
          "output_type": "stream",
          "name": "stdout",
          "text": [
            "x >= 10\n"
          ]
        }
      ],
      "source": [
        "x = 10\n",
        "\n",
        "if x == 1: # no parens needed around expression\n",
        "    print('hey, x is 1')\n",
        "    print('foo')\n",
        "elif x < 10:\n",
        "    print('x is less than 10 and not 1')\n",
        "else:\n",
        "    print('x >= 10')\n",
        "        "
      ]
    },
    {
      "cell_type": "markdown",
      "metadata": {
        "id": "UbXOEC9d0vnX"
      },
      "source": [
        "## Functions"
      ]
    },
    {
      "cell_type": "code",
      "execution_count": 8,
      "metadata": {
        "tags": [],
        "colab": {
          "base_uri": "https://localhost:8080/"
        },
        "id": "hxGh-jbu0vnX",
        "outputId": "ca47156e-ec05-4a4d-fe16-fe5f62e13de7"
      },
      "outputs": [
        {
          "output_type": "stream",
          "name": "stdout",
          "text": [
            "do something 4.8\n",
            "abc\n"
          ]
        }
      ],
      "source": [
        "def myfunc(x):\n",
        "    print('do something', x)\n",
        "    if x == 1:\n",
        "        return True\n",
        "    else:\n",
        "        return 'abc'\n",
        "    \n",
        "print(myfunc(4.8))"
      ]
    },
    {
      "cell_type": "markdown",
      "metadata": {
        "id": "Ea8Z73mY0vnX"
      },
      "source": [
        "## ...functions return __`None`__ if return not invoked"
      ]
    },
    {
      "cell_type": "code",
      "execution_count": 9,
      "metadata": {
        "scrolled": true,
        "tags": [],
        "colab": {
          "base_uri": "https://localhost:8080/"
        },
        "id": "0x-KErXx0vnY",
        "outputId": "516eb7ad-f7fb-4dc8-de66-c81f185886bd"
      },
      "outputs": [
        {
          "output_type": "stream",
          "name": "stdout",
          "text": [
            "do something 35\n",
            "None\n"
          ]
        }
      ],
      "source": [
        "def myfunc(x):\n",
        "    print('do something', x)\n",
        "\n",
        "print(myfunc(35))"
      ]
    },
    {
      "cell_type": "markdown",
      "metadata": {
        "id": "c-PB5Xkg0vnY"
      },
      "source": [
        "## What is __`None`__?\n",
        "* it acts like __`False`__, but it's a different object"
      ]
    },
    {
      "cell_type": "code",
      "execution_count": 10,
      "metadata": {
        "tags": [],
        "colab": {
          "base_uri": "https://localhost:8080/"
        },
        "id": "klOkkmwd0vnY",
        "outputId": "a3585d52-7290-431b-f215-1b9879a416e8"
      },
      "outputs": [
        {
          "output_type": "stream",
          "name": "stdout",
          "text": [
            "do something 2\n",
            "False branch of if\n"
          ]
        }
      ],
      "source": [
        "retval = myfunc(2)\n",
        "if retval:\n",
        "    print('True branch of if')\n",
        "else:\n",
        "    print('False branch of if')"
      ]
    },
    {
      "cell_type": "code",
      "execution_count": 12,
      "metadata": {
        "tags": [],
        "colab": {
          "base_uri": "https://localhost:8080/"
        },
        "id": "vb5dcHt70vnZ",
        "outputId": "ee6ce4c6-5190-4b6a-c865-bf202a90536e"
      },
      "outputs": [
        {
          "output_type": "stream",
          "name": "stdout",
          "text": [
            "preferred over retval == None\n"
          ]
        },
        {
          "output_type": "execute_result",
          "data": {
            "text/plain": [
              "(11124224, 11040320)"
            ]
          },
          "metadata": {},
          "execution_count": 12
        }
      ],
      "source": [
        "if retval is None:\n",
        "    print('preferred over retval == None')\n",
        "if None is False:\n",
        "    print('no!')\n",
        "id(None), id(False)"
      ]
    },
    {
      "cell_type": "markdown",
      "metadata": {
        "id": "M7rbeNLj0vnZ"
      },
      "source": [
        "## Two types of __`for`__ loops\n",
        "* iterating through a numeric range\n",
        "* iterating through a container"
      ]
    },
    {
      "cell_type": "code",
      "execution_count": 13,
      "metadata": {
        "tags": [],
        "colab": {
          "base_uri": "https://localhost:8080/"
        },
        "id": "hxXQ30BZ0vnZ",
        "outputId": "64d379c2-40d2-4352-f4cd-c9be46c979d2"
      },
      "outputs": [
        {
          "output_type": "stream",
          "name": "stdout",
          "text": [
            "0 1 2 3 4 5 6 7 8 9 10 11 12 13 14 15 16 17 18 19 20 21 22 23 24 "
          ]
        }
      ],
      "source": [
        "for num in range(25):\n",
        "    print(num, end=' ')"
      ]
    },
    {
      "cell_type": "code",
      "execution_count": 14,
      "metadata": {
        "tags": [],
        "colab": {
          "base_uri": "https://localhost:8080/"
        },
        "id": "kZ2Sm_yJ0vnZ",
        "outputId": "7fccdfec-9ab6-4849-bc52-041cc6af25f4"
      },
      "outputs": [
        {
          "output_type": "stream",
          "name": "stdout",
          "text": [
            "['small', 'medium', 'large']\n",
            "small\n",
            "medium\n",
            "large\n"
          ]
        }
      ],
      "source": [
        "mylist = 'small medium large'.split()\n",
        "print(mylist)\n",
        "for size in mylist:\n",
        "    print(size)"
      ]
    },
    {
      "cell_type": "markdown",
      "metadata": {
        "id": "rek46Pqw0vna"
      },
      "source": [
        "## Scope \n",
        "* Python is _NOT_ block scoped"
      ]
    },
    {
      "cell_type": "code",
      "execution_count": 18,
      "metadata": {
        "tags": [],
        "colab": {
          "base_uri": "https://localhost:8080/"
        },
        "id": "HBOzaoSS0vna",
        "outputId": "fee0c209-2c3f-4d3a-9c24-056fee89be22"
      },
      "outputs": [
        {
          "output_type": "stream",
          "name": "stdout",
          "text": [
            "outside the block, x = global x\n",
            "---> in func\n",
            "x = func x\n",
            "local x = func x\n",
            "global x = global x\n",
            "---> leaving func\n",
            "in main, after func call, x = global x\n",
            "---> inside second func\n",
            "x = new global x\n",
            "---> leaving second func, x = new global x\n",
            "in main, after second func call, x = new global x\n"
          ]
        }
      ],
      "source": [
        "if True:\n",
        "    x = 'global x' # x will persist outside this block\n",
        "\n",
        "print(\"outside the block, x =\", x)\n",
        "\n",
        "def func():\n",
        "    print(\"---> in func\")\n",
        "    x = 'func x' # declare var inside function\n",
        "    print(\"x =\", x)\n",
        "    d = locals()\n",
        "    print(\"local x =\", d['x'])\n",
        "    gl = globals()\n",
        "    print(\"global x =\", gl['x'])\n",
        "    print(\"---> leaving func\")\n",
        "\n",
        "func()\n",
        "print(\"in main, after func call, x =\", x)\n",
        "\n",
        "def func2():\n",
        "    print(\"---> inside second func\")\n",
        "    # can access global variables here\n",
        "    # print(\"x =\", x)\n",
        "    # ...but to change them, we need to bind\n",
        "    # the name 'x' to the global var instead\n",
        "    # of a new local var...\n",
        "    global x\n",
        "    x = 'new global x'\n",
        "    print(\"x =\", x)\n",
        "    print(\"---> leaving second func, x =\", x)\n",
        "\n",
        "func2()\n",
        "print(\"in main, after second func call, x =\", x)"
      ]
    },
    {
      "cell_type": "markdown",
      "metadata": {
        "id": "fXk6usVk0vnb"
      },
      "source": [
        "## Modules\n",
        "* just files of Python code\n",
        "* export variables, functions, and/or classes"
      ]
    },
    {
      "cell_type": "code",
      "execution_count": 23,
      "metadata": {
        "tags": [],
        "colab": {
          "base_uri": "https://localhost:8080/"
        },
        "id": "Fc4gVcPx0vnc",
        "outputId": "0e10930d-97e9-4a82-f075-8463a38868d1"
      },
      "outputs": [
        {
          "output_type": "stream",
          "name": "stdout",
          "text": [
            "__name__ = __main__\n",
            "success\n"
          ]
        }
      ],
      "source": [
        "# this code lives in mymodule.py\n",
        "def dummy():\n",
        "    return 45\n",
        "   \n",
        "public_data = \"public stuff!\"\n",
        "_private_data = \"private stuff!\"\n",
        "print('__name__ =', __name__)\n",
        "\n",
        "# If this code is being *run*, then __name__ will be '__main__'\n",
        "if __name__ == '__main__':\n",
        "    # test dummy\n",
        "    if dummy() == 45:\n",
        "        print('success')"
      ]
    },
    {
      "cell_type": "code",
      "execution_count": 24,
      "metadata": {
        "scrolled": true,
        "tags": [],
        "colab": {
          "base_uri": "https://localhost:8080/"
        },
        "id": "IK9rUD2q0vnc",
        "outputId": "1f4e2c67-6cbb-4115-8dd2-757ece1c7928"
      },
      "outputs": [
        {
          "output_type": "stream",
          "name": "stdout",
          "text": [
            "python3: can't open file 'mymodule.py': [Errno 2] No such file or directory\n"
          ]
        }
      ],
      "source": [
        "!python3 mymodule.py\n",
        "# The above runs a command in the shell, outside of the notebook"
      ]
    },
    {
      "cell_type": "code",
      "execution_count": 17,
      "metadata": {
        "tags": [],
        "colab": {
          "base_uri": "https://localhost:8080/",
          "height": 338
        },
        "id": "mIxhJjR_0vnd",
        "outputId": "bbf8ae78-23c6-4104-ec13-1baee02ac698"
      },
      "outputs": [
        {
          "output_type": "error",
          "ename": "ModuleNotFoundError",
          "evalue": "ignored",
          "traceback": [
            "\u001b[0;31m---------------------------------------------------------------------------\u001b[0m",
            "\u001b[0;31mModuleNotFoundError\u001b[0m                       Traceback (most recent call last)",
            "\u001b[0;32m<ipython-input-17-5c416dca3d35>\u001b[0m in \u001b[0;36m<module>\u001b[0;34m\u001b[0m\n\u001b[0;32m----> 1\u001b[0;31m \u001b[0;32mimport\u001b[0m \u001b[0mmymodule\u001b[0m\u001b[0;34m\u001b[0m\u001b[0;34m\u001b[0m\u001b[0m\n\u001b[0m\u001b[1;32m      2\u001b[0m \u001b[0mmymodule\u001b[0m\u001b[0;34m.\u001b[0m\u001b[0mdummy\u001b[0m\u001b[0;34m(\u001b[0m\u001b[0;34m)\u001b[0m \u001b[0;31m# must preface identifiers with module name\u001b[0m\u001b[0;34m\u001b[0m\u001b[0;34m\u001b[0m\u001b[0m\n",
            "\u001b[0;31mModuleNotFoundError\u001b[0m: No module named 'mymodule'",
            "",
            "\u001b[0;31m---------------------------------------------------------------------------\u001b[0;32m\nNOTE: If your import is failing due to a missing package, you can\nmanually install dependencies using either !pip or !apt.\n\nTo view examples of installing some common dependencies, click the\n\"Open Examples\" button below.\n\u001b[0;31m---------------------------------------------------------------------------\u001b[0m\n"
          ],
          "errorDetails": {
            "actions": [
              {
                "action": "open_url",
                "actionText": "Open Examples",
                "url": "/notebooks/snippets/importing_libraries.ipynb"
              }
            ]
          }
        }
      ],
      "source": [
        "import mymodule\n",
        "mymodule.dummy() # must preface identifiers with module name"
      ]
    },
    {
      "cell_type": "code",
      "execution_count": 19,
      "metadata": {
        "colab": {
          "base_uri": "https://localhost:8080/"
        },
        "id": "NBpWjzMD0vnd",
        "outputId": "35413240-b1fe-45c8-ae3d-3d759d4f24af"
      },
      "outputs": [
        {
          "output_type": "execute_result",
          "data": {
            "text/plain": [
              "['In',\n",
              " 'Out',\n",
              " '_',\n",
              " '_11',\n",
              " '_12',\n",
              " '__',\n",
              " '___',\n",
              " '__builtin__',\n",
              " '__builtins__',\n",
              " '__doc__',\n",
              " '__loader__',\n",
              " '__name__',\n",
              " '__package__',\n",
              " '__spec__',\n",
              " '_dh',\n",
              " '_exit_code',\n",
              " '_i',\n",
              " '_i1',\n",
              " '_i10',\n",
              " '_i11',\n",
              " '_i12',\n",
              " '_i13',\n",
              " '_i14',\n",
              " '_i15',\n",
              " '_i16',\n",
              " '_i17',\n",
              " '_i18',\n",
              " '_i19',\n",
              " '_i2',\n",
              " '_i3',\n",
              " '_i4',\n",
              " '_i5',\n",
              " '_i6',\n",
              " '_i7',\n",
              " '_i8',\n",
              " '_i9',\n",
              " '_ih',\n",
              " '_ii',\n",
              " '_iii',\n",
              " '_oh',\n",
              " '_private_data',\n",
              " 'dummy',\n",
              " 'exit',\n",
              " 'func',\n",
              " 'func2',\n",
              " 'get_ipython',\n",
              " 'myfunc',\n",
              " 'mylist',\n",
              " 'num',\n",
              " 'public_data',\n",
              " 'quit',\n",
              " 'retval',\n",
              " 'size',\n",
              " 'x']"
            ]
          },
          "metadata": {},
          "execution_count": 19
        }
      ],
      "source": [
        "# mymodule is in the local variables\n",
        "dir()"
      ]
    },
    {
      "cell_type": "code",
      "execution_count": 21,
      "metadata": {
        "colab": {
          "base_uri": "https://localhost:8080/",
          "height": 172
        },
        "id": "BYzLmUCl0vne",
        "outputId": "87f27392-3841-4c53-ff82-0049c0545a1a"
      },
      "outputs": [
        {
          "output_type": "error",
          "ename": "NameError",
          "evalue": "ignored",
          "traceback": [
            "\u001b[0;31m---------------------------------------------------------------------------\u001b[0m",
            "\u001b[0;31mNameError\u001b[0m                                 Traceback (most recent call last)",
            "\u001b[0;32m<ipython-input-21-a5125f353497>\u001b[0m in \u001b[0;36m<module>\u001b[0;34m\u001b[0m\n\u001b[0;32m----> 1\u001b[0;31m \u001b[0mmymodule\u001b[0m\u001b[0;34m.\u001b[0m\u001b[0m_private_data\u001b[0m\u001b[0;34m,\u001b[0m \u001b[0mmymodule\u001b[0m\u001b[0;34m.\u001b[0m\u001b[0mpublic_data\u001b[0m\u001b[0;34m\u001b[0m\u001b[0;34m\u001b[0m\u001b[0m\n\u001b[0m",
            "\u001b[0;31mNameError\u001b[0m: name 'mymodule' is not defined"
          ]
        }
      ],
      "source": [
        "mymodule._private_data, mymodule.public_data"
      ]
    },
    {
      "cell_type": "code",
      "execution_count": 22,
      "metadata": {
        "scrolled": true,
        "colab": {
          "base_uri": "https://localhost:8080/",
          "height": 338
        },
        "id": "DowhF-Ku0vne",
        "outputId": "c3975522-11e9-4bdf-d7ef-bce54ee2ffa4"
      },
      "outputs": [
        {
          "output_type": "error",
          "ename": "ModuleNotFoundError",
          "evalue": "ignored",
          "traceback": [
            "\u001b[0;31m---------------------------------------------------------------------------\u001b[0m",
            "\u001b[0;31mModuleNotFoundError\u001b[0m                       Traceback (most recent call last)",
            "\u001b[0;32m<ipython-input-22-2808c520c703>\u001b[0m in \u001b[0;36m<module>\u001b[0;34m\u001b[0m\n\u001b[0;32m----> 1\u001b[0;31m \u001b[0;32mfrom\u001b[0m \u001b[0mmymodule\u001b[0m \u001b[0;32mimport\u001b[0m \u001b[0mpublic_data\u001b[0m \u001b[0;32mas\u001b[0m \u001b[0mthismodule_data\u001b[0m\u001b[0;34m\u001b[0m\u001b[0;34m\u001b[0m\u001b[0m\n\u001b[0m\u001b[1;32m      2\u001b[0m \u001b[0mprint\u001b[0m\u001b[0;34m(\u001b[0m\u001b[0mthismodule_data\u001b[0m\u001b[0;34m)\u001b[0m\u001b[0;34m\u001b[0m\u001b[0;34m\u001b[0m\u001b[0m\n",
            "\u001b[0;31mModuleNotFoundError\u001b[0m: No module named 'mymodule'",
            "",
            "\u001b[0;31m---------------------------------------------------------------------------\u001b[0;32m\nNOTE: If your import is failing due to a missing package, you can\nmanually install dependencies using either !pip or !apt.\n\nTo view examples of installing some common dependencies, click the\n\"Open Examples\" button below.\n\u001b[0;31m---------------------------------------------------------------------------\u001b[0m\n"
          ],
          "errorDetails": {
            "actions": [
              {
                "action": "open_url",
                "actionText": "Open Examples",
                "url": "/notebooks/snippets/importing_libraries.ipynb"
              }
            ]
          }
        }
      ],
      "source": [
        "from mymodule import public_data as thismodule_data\n",
        "print(thismodule_data)"
      ]
    },
    {
      "cell_type": "markdown",
      "metadata": {
        "id": "GRH1h-e80vne"
      },
      "source": [
        "## Regular Expressions (regex)"
      ]
    },
    {
      "cell_type": "code",
      "execution_count": 25,
      "metadata": {
        "tags": [],
        "colab": {
          "base_uri": "https://localhost:8080/"
        },
        "id": "5xA-kqvd0vnf",
        "outputId": "8c310390-1929-4de4-eb1a-7531fd54c335"
      },
      "outputs": [
        {
          "output_type": "stream",
          "name": "stdout",
          "text": [
            "match found!\n"
          ]
        }
      ],
      "source": [
        "import re \n",
        "if re.match('a.*b', 'alphabet'):\n",
        "    print('match found!')"
      ]
    },
    {
      "cell_type": "code",
      "execution_count": 26,
      "metadata": {
        "id": "hPW_-uD20vnf"
      },
      "outputs": [],
      "source": [
        "# match() only matches at beginning of string\n",
        "if re.match('l.*b', 'alphabet'):\n",
        "    print('match found!')"
      ]
    },
    {
      "cell_type": "code",
      "execution_count": 27,
      "metadata": {
        "tags": [],
        "colab": {
          "base_uri": "https://localhost:8080/"
        },
        "id": "oQq81f7H0vnf",
        "outputId": "6c427ff6-8d9a-41b0-b02c-41a57d597f49"
      },
      "outputs": [
        {
          "output_type": "stream",
          "name": "stdout",
          "text": [
            "match found!\n"
          ]
        }
      ],
      "source": [
        "o = re.search('l.*e', 'alphabet')\n",
        "if o:\n",
        "    print('match found!')"
      ]
    },
    {
      "cell_type": "code",
      "execution_count": 28,
      "metadata": {
        "colab": {
          "base_uri": "https://localhost:8080/"
        },
        "id": "S2TqSILX0vnf",
        "outputId": "79e9642c-e759-4d05-d64f-a4779cc4297c"
      },
      "outputs": [
        {
          "output_type": "execute_result",
          "data": {
            "text/plain": [
              "('l.*e', 'alphabet')"
            ]
          },
          "metadata": {},
          "execution_count": 28
        }
      ],
      "source": [
        "o.re.pattern, o.string"
      ]
    },
    {
      "cell_type": "code",
      "execution_count": 29,
      "metadata": {
        "colab": {
          "base_uri": "https://localhost:8080/"
        },
        "id": "OA_tTyG50vnf",
        "outputId": "71f760ee-04a2-4799-c779-60b7463753f0"
      },
      "outputs": [
        {
          "output_type": "execute_result",
          "data": {
            "text/plain": [
              "(1, 7)"
            ]
          },
          "metadata": {},
          "execution_count": 29
        }
      ],
      "source": [
        "o.start(), o.end()"
      ]
    },
    {
      "cell_type": "code",
      "execution_count": 30,
      "metadata": {
        "colab": {
          "base_uri": "https://localhost:8080/",
          "height": 36
        },
        "id": "HDv3Yddv0vng",
        "outputId": "0aa1e687-782c-4ad1-99a4-2a2c7508f663"
      },
      "outputs": [
        {
          "output_type": "execute_result",
          "data": {
            "text/plain": [
              "'lphabe'"
            ],
            "application/vnd.google.colaboratory.intrinsic+json": {
              "type": "string"
            }
          },
          "metadata": {},
          "execution_count": 30
        }
      ],
      "source": [
        "o.string[o.start():o.end()]"
      ]
    },
    {
      "cell_type": "code",
      "execution_count": 31,
      "metadata": {
        "tags": [],
        "colab": {
          "base_uri": "https://localhost:8080/"
        },
        "id": "mnC7hhyu0vng",
        "outputId": "2fea2f63-0720-4849-b64b-91762a18b139"
      },
      "outputs": [
        {
          "output_type": "stream",
          "name": "stdout",
          "text": [
            "cat: poem.txt: No such file or directory\n"
          ]
        }
      ],
      "source": [
        "!cat poem.txt"
      ]
    },
    {
      "cell_type": "code",
      "execution_count": 32,
      "metadata": {
        "tags": [],
        "colab": {
          "base_uri": "https://localhost:8080/",
          "height": 246
        },
        "id": "vuSiHJGx0vng",
        "outputId": "f4b6bdbd-2e3c-474a-fa0a-e407dc7678e3"
      },
      "outputs": [
        {
          "output_type": "error",
          "ename": "FileNotFoundError",
          "evalue": "ignored",
          "traceback": [
            "\u001b[0;31m---------------------------------------------------------------------------\u001b[0m",
            "\u001b[0;31mFileNotFoundError\u001b[0m                         Traceback (most recent call last)",
            "\u001b[0;32m<ipython-input-32-2d23c4df1e6e>\u001b[0m in \u001b[0;36m<module>\u001b[0;34m\u001b[0m\n\u001b[1;32m      1\u001b[0m \u001b[0;32mimport\u001b[0m \u001b[0mre\u001b[0m\u001b[0;34m\u001b[0m\u001b[0;34m\u001b[0m\u001b[0m\n\u001b[1;32m      2\u001b[0m \u001b[0mlinenum\u001b[0m \u001b[0;34m=\u001b[0m \u001b[0;36m0\u001b[0m\u001b[0;34m\u001b[0m\u001b[0;34m\u001b[0m\u001b[0m\n\u001b[0;32m----> 3\u001b[0;31m \u001b[0;32mfor\u001b[0m \u001b[0mline\u001b[0m \u001b[0;32min\u001b[0m \u001b[0mopen\u001b[0m\u001b[0;34m(\u001b[0m\u001b[0;34m'poem.txt'\u001b[0m\u001b[0;34m)\u001b[0m\u001b[0;34m:\u001b[0m\u001b[0;34m\u001b[0m\u001b[0;34m\u001b[0m\u001b[0m\n\u001b[0m\u001b[1;32m      4\u001b[0m     \u001b[0mlinenum\u001b[0m \u001b[0;34m+=\u001b[0m \u001b[0;36m1\u001b[0m\u001b[0;34m\u001b[0m\u001b[0;34m\u001b[0m\u001b[0m\n\u001b[1;32m      5\u001b[0m     \u001b[0;32mif\u001b[0m \u001b[0mre\u001b[0m\u001b[0;34m.\u001b[0m\u001b[0msearch\u001b[0m\u001b[0;34m(\u001b[0m\u001b[0;34m'the'\u001b[0m\u001b[0;34m,\u001b[0m \u001b[0mline\u001b[0m\u001b[0;34m)\u001b[0m\u001b[0;34m:\u001b[0m\u001b[0;34m\u001b[0m\u001b[0;34m\u001b[0m\u001b[0m\n",
            "\u001b[0;31mFileNotFoundError\u001b[0m: [Errno 2] No such file or directory: 'poem.txt'"
          ]
        }
      ],
      "source": [
        "import re\n",
        "linenum = 0\n",
        "for line in open('poem.txt'):\n",
        "    linenum += 1\n",
        "    if re.search('the', line):\n",
        "        print(f\"{linenum}: {re.sub('the', '---', line)}\", end='')"
      ]
    },
    {
      "cell_type": "code",
      "execution_count": 33,
      "metadata": {
        "colab": {
          "base_uri": "https://localhost:8080/"
        },
        "id": "Abs8ttra0vnh",
        "outputId": "42351986-6de1-43b8-9a6b-2a45c033fa38"
      },
      "outputs": [
        {
          "output_type": "stream",
          "name": "stdout",
          "text": [
            "Help on built-in function open in module io:\n",
            "\n",
            "open(file, mode='r', buffering=-1, encoding=None, errors=None, newline=None, closefd=True, opener=None)\n",
            "    Open file and return a stream.  Raise OSError upon failure.\n",
            "    \n",
            "    file is either a text or byte string giving the name (and the path\n",
            "    if the file isn't in the current working directory) of the file to\n",
            "    be opened or an integer file descriptor of the file to be\n",
            "    wrapped. (If a file descriptor is given, it is closed when the\n",
            "    returned I/O object is closed, unless closefd is set to False.)\n",
            "    \n",
            "    mode is an optional string that specifies the mode in which the file\n",
            "    is opened. It defaults to 'r' which means open for reading in text\n",
            "    mode.  Other common values are 'w' for writing (truncating the file if\n",
            "    it already exists), 'x' for creating and writing to a new file, and\n",
            "    'a' for appending (which on some Unix systems, means that all writes\n",
            "    append to the end of the file regardless of the current seek position).\n",
            "    In text mode, if encoding is not specified the encoding used is platform\n",
            "    dependent: locale.getpreferredencoding(False) is called to get the\n",
            "    current locale encoding. (For reading and writing raw bytes use binary\n",
            "    mode and leave encoding unspecified.) The available modes are:\n",
            "    \n",
            "    ========= ===============================================================\n",
            "    Character Meaning\n",
            "    --------- ---------------------------------------------------------------\n",
            "    'r'       open for reading (default)\n",
            "    'w'       open for writing, truncating the file first\n",
            "    'x'       create a new file and open it for writing\n",
            "    'a'       open for writing, appending to the end of the file if it exists\n",
            "    'b'       binary mode\n",
            "    't'       text mode (default)\n",
            "    '+'       open a disk file for updating (reading and writing)\n",
            "    'U'       universal newline mode (deprecated)\n",
            "    ========= ===============================================================\n",
            "    \n",
            "    The default mode is 'rt' (open for reading text). For binary random\n",
            "    access, the mode 'w+b' opens and truncates the file to 0 bytes, while\n",
            "    'r+b' opens the file without truncation. The 'x' mode implies 'w' and\n",
            "    raises an `FileExistsError` if the file already exists.\n",
            "    \n",
            "    Python distinguishes between files opened in binary and text modes,\n",
            "    even when the underlying operating system doesn't. Files opened in\n",
            "    binary mode (appending 'b' to the mode argument) return contents as\n",
            "    bytes objects without any decoding. In text mode (the default, or when\n",
            "    't' is appended to the mode argument), the contents of the file are\n",
            "    returned as strings, the bytes having been first decoded using a\n",
            "    platform-dependent encoding or using the specified encoding if given.\n",
            "    \n",
            "    'U' mode is deprecated and will raise an exception in future versions\n",
            "    of Python.  It has no effect in Python 3.  Use newline to control\n",
            "    universal newlines mode.\n",
            "    \n",
            "    buffering is an optional integer used to set the buffering policy.\n",
            "    Pass 0 to switch buffering off (only allowed in binary mode), 1 to select\n",
            "    line buffering (only usable in text mode), and an integer > 1 to indicate\n",
            "    the size of a fixed-size chunk buffer.  When no buffering argument is\n",
            "    given, the default buffering policy works as follows:\n",
            "    \n",
            "    * Binary files are buffered in fixed-size chunks; the size of the buffer\n",
            "      is chosen using a heuristic trying to determine the underlying device's\n",
            "      \"block size\" and falling back on `io.DEFAULT_BUFFER_SIZE`.\n",
            "      On many systems, the buffer will typically be 4096 or 8192 bytes long.\n",
            "    \n",
            "    * \"Interactive\" text files (files for which isatty() returns True)\n",
            "      use line buffering.  Other text files use the policy described above\n",
            "      for binary files.\n",
            "    \n",
            "    encoding is the name of the encoding used to decode or encode the\n",
            "    file. This should only be used in text mode. The default encoding is\n",
            "    platform dependent, but any encoding supported by Python can be\n",
            "    passed.  See the codecs module for the list of supported encodings.\n",
            "    \n",
            "    errors is an optional string that specifies how encoding errors are to\n",
            "    be handled---this argument should not be used in binary mode. Pass\n",
            "    'strict' to raise a ValueError exception if there is an encoding error\n",
            "    (the default of None has the same effect), or pass 'ignore' to ignore\n",
            "    errors. (Note that ignoring encoding errors can lead to data loss.)\n",
            "    See the documentation for codecs.register or run 'help(codecs.Codec)'\n",
            "    for a list of the permitted encoding error strings.\n",
            "    \n",
            "    newline controls how universal newlines works (it only applies to text\n",
            "    mode). It can be None, '', '\\n', '\\r', and '\\r\\n'.  It works as\n",
            "    follows:\n",
            "    \n",
            "    * On input, if newline is None, universal newlines mode is\n",
            "      enabled. Lines in the input can end in '\\n', '\\r', or '\\r\\n', and\n",
            "      these are translated into '\\n' before being returned to the\n",
            "      caller. If it is '', universal newline mode is enabled, but line\n",
            "      endings are returned to the caller untranslated. If it has any of\n",
            "      the other legal values, input lines are only terminated by the given\n",
            "      string, and the line ending is returned to the caller untranslated.\n",
            "    \n",
            "    * On output, if newline is None, any '\\n' characters written are\n",
            "      translated to the system default line separator, os.linesep. If\n",
            "      newline is '' or '\\n', no translation takes place. If newline is any\n",
            "      of the other legal values, any '\\n' characters written are translated\n",
            "      to the given string.\n",
            "    \n",
            "    If closefd is False, the underlying file descriptor will be kept open\n",
            "    when the file is closed. This does not work when a file name is given\n",
            "    and must be True in that case.\n",
            "    \n",
            "    A custom opener can be used by passing a callable as *opener*. The\n",
            "    underlying file descriptor for the file object is then obtained by\n",
            "    calling *opener* with (*file*, *flags*). *opener* must return an open\n",
            "    file descriptor (passing os.open as *opener* results in functionality\n",
            "    similar to passing None).\n",
            "    \n",
            "    open() returns a file object whose type depends on the mode, and\n",
            "    through which the standard file operations such as reading and writing\n",
            "    are performed. When open() is used to open a file in a text mode ('w',\n",
            "    'r', 'wt', 'rt', etc.), it returns a TextIOWrapper. When used to open\n",
            "    a file in a binary mode, the returned class varies: in read binary\n",
            "    mode, it returns a BufferedReader; in write binary and append binary\n",
            "    modes, it returns a BufferedWriter, and in read/write mode, it returns\n",
            "    a BufferedRandom.\n",
            "    \n",
            "    It is also possible to use a string or bytearray as a file for both\n",
            "    reading and writing. For strings StringIO can be used like a file\n",
            "    opened in a text mode, and for bytes a BytesIO can be used like a file\n",
            "    opened in a binary mode.\n",
            "\n"
          ]
        }
      ],
      "source": [
        "help(open)"
      ]
    },
    {
      "cell_type": "markdown",
      "metadata": {
        "id": "JLe-f1md0vnh"
      },
      "source": [
        "* let's write a function which takes a word as an argument and outputs the plural of that word\n",
        "* the program should follow these rules:\n",
        "  * if the word ends in 's', 'x', or 'z', the plural adds 'es', e.g., ax => axes, loss => losses\n",
        "  * if the word ends in an 'h', which is not preceded by a vowel or 'd', 'g', 'k', 'p', 'r', or 't', the plural adds 'es', e.g., moth => moths, but match => matches\n",
        "  * if the word ends in a 'y' which is not preceded by a vowel, then the plural strips the 'y' and adds 'ies', e.g., baby => babies, but boy => boys\n",
        "  * otherwise just add 's'"
      ]
    },
    {
      "cell_type": "code",
      "execution_count": 34,
      "metadata": {
        "id": "DN0Oke8m0vnh"
      },
      "outputs": [],
      "source": [
        "import re\n",
        "\n",
        "def pluralize(noun):\n",
        "    if re.search('[sxz]$', noun):\n",
        "        return noun + 'es'\n",
        "    elif re.search('[^aeioudgkprt]h$', noun):\n",
        "        return noun + 'es'\n",
        "    elif re.search('[^aeiou]y$', noun):\n",
        "        return re.sub('y$', 'ies', noun)\n",
        "    else:\n",
        "        return noun + 's'"
      ]
    },
    {
      "cell_type": "code",
      "execution_count": 35,
      "metadata": {
        "colab": {
          "base_uri": "https://localhost:8080/",
          "height": 36
        },
        "id": "7zUPLnjZ0vnh",
        "outputId": "34f59fcc-9015-474e-c8e4-5ec9f8e6e468"
      },
      "outputs": [
        {
          "output_type": "execute_result",
          "data": {
            "text/plain": [
              "'bumpers'"
            ],
            "application/vnd.google.colaboratory.intrinsic+json": {
              "type": "string"
            }
          },
          "metadata": {},
          "execution_count": 35
        }
      ],
      "source": [
        "pluralize(\"bumper\")"
      ]
    },
    {
      "cell_type": "markdown",
      "metadata": {
        "id": "J7nUY9GS0vni"
      },
      "source": [
        "# Python Datatype Overview"
      ]
    },
    {
      "cell_type": "markdown",
      "metadata": {
        "id": "i5cGFI840vni"
      },
      "source": [
        "## Strings\n",
        "* can use single or double quotes\n",
        "* triple quotes (single or double) allow multi-line strings"
      ]
    },
    {
      "cell_type": "code",
      "execution_count": 36,
      "metadata": {
        "tags": [],
        "colab": {
          "base_uri": "https://localhost:8080/"
        },
        "id": "eDzi2PvR0vni",
        "outputId": "286cb123-13c8-4658-f810-348b4599e02c"
      },
      "outputs": [
        {
          "output_type": "stream",
          "name": "stdout",
          "text": [
            "The embedded apostrophe isn't a problem!\n",
            "Nor are embedded \"quotes\"\n",
            "This string is \"more difficult\" to read\n"
          ]
        }
      ],
      "source": [
        "s = \"The embedded apostrophe isn't a problem!\"\n",
        "print(s)\n",
        "s = 'Nor are embedded \"quotes\"'\n",
        "print(s)\n",
        "s = \"This string is \\\"more difficult\\\" to read\"\n",
        "print(s)"
      ]
    },
    {
      "cell_type": "code",
      "execution_count": 37,
      "metadata": {
        "tags": [],
        "colab": {
          "base_uri": "https://localhost:8080/"
        },
        "id": "K-5AsFaK0vni",
        "outputId": "7e79fa32-16c7-4f0c-b57e-28573093fa10"
      },
      "outputs": [
        {
          "output_type": "stream",
          "name": "stdout",
          "text": [
            "A man,\n",
            "a plan, \n",
            "a canal: Panama\n"
          ]
        }
      ],
      "source": [
        "s = '''A man,\n",
        "a plan, \n",
        "a canal: Panama'''\n",
        "print(s)"
      ]
    },
    {
      "cell_type": "markdown",
      "metadata": {
        "id": "O4ML760k0vnj"
      },
      "source": [
        "## Lists\n",
        "* ordered\n",
        "* comma-separated values in []\n",
        "* types can be mixed, but typically homogeneous\n",
        "* append(), extend(), pop(), remove()\n",
        "* clear(), copy(), sort(), reverse()\n",
        "* count(), index()"
      ]
    },
    {
      "cell_type": "code",
      "execution_count": 38,
      "metadata": {
        "colab": {
          "base_uri": "https://localhost:8080/"
        },
        "id": "IYWDcOqh0vnj",
        "outputId": "4a21692b-d5de-4d64-e7c4-7ef2d71e88ce"
      },
      "outputs": [
        {
          "output_type": "execute_result",
          "data": {
            "text/plain": [
              "(1620, (3, 4))"
            ]
          },
          "metadata": {},
          "execution_count": 38
        }
      ],
      "source": [
        "years = [1215, 1620, 1812, 1941]\n",
        "weird_list = [1, 'two', (3, 4), False]\n",
        "years[1], weird_list[2]"
      ]
    },
    {
      "cell_type": "code",
      "execution_count": 39,
      "metadata": {
        "colab": {
          "base_uri": "https://localhost:8080/"
        },
        "id": "Vw6k9Nha0vnj",
        "outputId": "401b0728-ccfd-4431-98d2-2ab49a141a62"
      },
      "outputs": [
        {
          "output_type": "stream",
          "name": "stdout",
          "text": [
            "Help on method_descriptor:\n",
            "\n",
            "count(self, value, /)\n",
            "    Return number of occurrences of value.\n",
            "\n"
          ]
        }
      ],
      "source": [
        "help(list.count)"
      ]
    },
    {
      "cell_type": "markdown",
      "metadata": {
        "id": "p9xwzi530vnj"
      },
      "source": [
        "## Tuples\n",
        "* immutable\n",
        "* generally imply some structure\n",
        "* one tuple generally describes one object (person, building, country, etc.)\n",
        "* parens not required when declaring"
      ]
    },
    {
      "cell_type": "code",
      "execution_count": 40,
      "metadata": {
        "tags": [],
        "colab": {
          "base_uri": "https://localhost:8080/"
        },
        "id": "UT-magP30vnj",
        "outputId": "7595307b-89c2-43d3-cbec-fcd56d7eee55"
      },
      "outputs": [
        {
          "output_type": "stream",
          "name": "stdout",
          "text": [
            "()\n",
            "(1,)\n"
          ]
        }
      ],
      "source": [
        "# empty tuple\n",
        "t = ()\n",
        "print(t)\n",
        "# singleton tuple\n",
        "t = (1,)\n",
        "print(t)"
      ]
    },
    {
      "cell_type": "code",
      "execution_count": 41,
      "metadata": {
        "colab": {
          "base_uri": "https://localhost:8080/"
        },
        "id": "MmVhgS0o0vnk",
        "outputId": "a99d9a50-ae0d-4b75-8081-98673addeb51"
      },
      "outputs": [
        {
          "output_type": "execute_result",
          "data": {
            "text/plain": [
              "(1, 2)"
            ]
          },
          "metadata": {},
          "execution_count": 41
        }
      ],
      "source": [
        "# use case for a singleton tuple: concatenation\n",
        "t + (2,)"
      ]
    },
    {
      "cell_type": "code",
      "execution_count": null,
      "metadata": {
        "id": "F6GZvbMb0vnk"
      },
      "outputs": [],
      "source": [
        "t + (7,)"
      ]
    },
    {
      "cell_type": "code",
      "execution_count": 42,
      "metadata": {
        "tags": [],
        "colab": {
          "base_uri": "https://localhost:8080/",
          "height": 412
        },
        "id": "u5BSjoFa0vnk",
        "outputId": "ccb96dd2-164f-4e6b-f46a-05971a3030a0"
      },
      "outputs": [
        {
          "output_type": "stream",
          "name": "stdout",
          "text": [
            "h e l l o \n",
            "9 \n"
          ]
        },
        {
          "output_type": "error",
          "ename": "TypeError",
          "evalue": "ignored",
          "traceback": [
            "\u001b[0;31m---------------------------------------------------------------------------\u001b[0m",
            "\u001b[0;31mTypeError\u001b[0m                                 Traceback (most recent call last)",
            "\u001b[0;32m<ipython-input-42-2267044405cf>\u001b[0m in \u001b[0;36m<module>\u001b[0;34m\u001b[0m\n\u001b[1;32m      8\u001b[0m \u001b[0mfunc\u001b[0m\u001b[0;34m(\u001b[0m\u001b[0;34m'hello'\u001b[0m\u001b[0;34m)\u001b[0m\u001b[0;34m\u001b[0m\u001b[0;34m\u001b[0m\u001b[0m\n\u001b[1;32m      9\u001b[0m \u001b[0mfunc\u001b[0m\u001b[0;34m(\u001b[0m\u001b[0;34m(\u001b[0m\u001b[0;36m9\u001b[0m\u001b[0;34m,\u001b[0m\u001b[0;34m)\u001b[0m\u001b[0;34m)\u001b[0m\u001b[0;34m\u001b[0m\u001b[0;34m\u001b[0m\u001b[0m\n\u001b[0;32m---> 10\u001b[0;31m \u001b[0mfunc\u001b[0m\u001b[0;34m(\u001b[0m\u001b[0;36m9\u001b[0m\u001b[0;34m)\u001b[0m\u001b[0;34m\u001b[0m\u001b[0;34m\u001b[0m\u001b[0m\n\u001b[0m\u001b[1;32m     11\u001b[0m \u001b[0;34m\u001b[0m\u001b[0m\n\u001b[1;32m     12\u001b[0m \u001b[0;31m# Also used to avoid SQL injection attacks\u001b[0m\u001b[0;34m\u001b[0m\u001b[0;34m\u001b[0m\u001b[0;34m\u001b[0m\u001b[0m\n",
            "\u001b[0;32m<ipython-input-42-2267044405cf>\u001b[0m in \u001b[0;36mfunc\u001b[0;34m(iter)\u001b[0m\n\u001b[1;32m      2\u001b[0m \u001b[0;31m# enables you to pass a single value to a function which takes an iterable\u001b[0m\u001b[0;34m\u001b[0m\u001b[0;34m\u001b[0m\u001b[0;34m\u001b[0m\u001b[0m\n\u001b[1;32m      3\u001b[0m \u001b[0;32mdef\u001b[0m \u001b[0mfunc\u001b[0m\u001b[0;34m(\u001b[0m\u001b[0miter\u001b[0m\u001b[0;34m)\u001b[0m\u001b[0;34m:\u001b[0m\u001b[0;34m\u001b[0m\u001b[0;34m\u001b[0m\u001b[0m\n\u001b[0;32m----> 4\u001b[0;31m     \u001b[0;32mfor\u001b[0m \u001b[0mitem\u001b[0m \u001b[0;32min\u001b[0m \u001b[0miter\u001b[0m\u001b[0;34m:\u001b[0m\u001b[0;34m\u001b[0m\u001b[0;34m\u001b[0m\u001b[0m\n\u001b[0m\u001b[1;32m      5\u001b[0m         \u001b[0mprint\u001b[0m\u001b[0;34m(\u001b[0m\u001b[0mitem\u001b[0m\u001b[0;34m,\u001b[0m \u001b[0mend\u001b[0m\u001b[0;34m=\u001b[0m\u001b[0;34m' '\u001b[0m\u001b[0;34m)\u001b[0m\u001b[0;34m\u001b[0m\u001b[0;34m\u001b[0m\u001b[0m\n\u001b[1;32m      6\u001b[0m     \u001b[0mprint\u001b[0m\u001b[0;34m(\u001b[0m\u001b[0;34m)\u001b[0m\u001b[0;34m\u001b[0m\u001b[0;34m\u001b[0m\u001b[0m\n",
            "\u001b[0;31mTypeError\u001b[0m: 'int' object is not iterable"
          ]
        }
      ],
      "source": [
        "# another use case for singleton tuple:\n",
        "# enables you to pass a single value to a function which takes an iterable\n",
        "def func(iter):\n",
        "    for item in iter:\n",
        "        print(item, end=' ')\n",
        "    print()\n",
        "        \n",
        "func('hello')\n",
        "func((9,))\n",
        "func(9)\n",
        "\n",
        "# Also used to avoid SQL injection attacks\n",
        "# "
      ]
    },
    {
      "cell_type": "markdown",
      "metadata": {
        "id": "Z7lBqrK10vnk"
      },
      "source": [
        "## Sets\n",
        "* unordered\n",
        "* no duplicates"
      ]
    },
    {
      "cell_type": "code",
      "execution_count": 43,
      "metadata": {
        "colab": {
          "base_uri": "https://localhost:8080/"
        },
        "id": "Sv9bNA1D0vnk",
        "outputId": "dc44a632-8f97-487e-a727-60dc67126101"
      },
      "outputs": [
        {
          "output_type": "execute_result",
          "data": {
            "text/plain": [
              "set"
            ]
          },
          "metadata": {},
          "execution_count": 43
        }
      ],
      "source": [
        "se = set()\n",
        "type(se)"
      ]
    },
    {
      "cell_type": "code",
      "execution_count": 44,
      "metadata": {
        "tags": [],
        "colab": {
          "base_uri": "https://localhost:8080/"
        },
        "id": "hYV6NSrb0vnl",
        "outputId": "de4de73d-1afd-4e5f-82de-46a11b3889f3"
      },
      "outputs": [
        {
          "output_type": "stream",
          "name": "stdout",
          "text": [
            "{2, 4, 6}\n",
            "{8, 2, 4, 6}\n"
          ]
        }
      ],
      "source": [
        "even = { 2, 4, 6 }\n",
        "print(even)\n",
        "even.add(8)\n",
        "even.add(2)\n",
        "print(even)"
      ]
    },
    {
      "cell_type": "code",
      "execution_count": 45,
      "metadata": {
        "tags": [],
        "colab": {
          "base_uri": "https://localhost:8080/"
        },
        "id": "GEm8z4G40vnl",
        "outputId": "e56f9dc6-cc81-484d-fc79-1fc4d50a2679"
      },
      "outputs": [
        {
          "output_type": "stream",
          "name": "stdout",
          "text": [
            "{2, 3, 5, 7}\n",
            "all numbers = {2, 3, 4, 5, 6, 7, 8}\n",
            "even primes = {2}\n"
          ]
        }
      ],
      "source": [
        "prime = set([int(x) for x in '2357'])\n",
        "print(prime)\n",
        "print('all numbers =', prime | even)\n",
        "print('even primes =', prime & even)\n"
      ]
    },
    {
      "cell_type": "code",
      "execution_count": 46,
      "metadata": {
        "colab": {
          "base_uri": "https://localhost:8080/"
        },
        "id": "u6TfSaL70vnm",
        "outputId": "426360ef-efed-4d84-9a92-20aeb80ee594"
      },
      "outputs": [
        {
          "output_type": "execute_result",
          "data": {
            "text/plain": [
              "True"
            ]
          },
          "metadata": {},
          "execution_count": 46
        }
      ],
      "source": [
        "7 in prime"
      ]
    },
    {
      "cell_type": "markdown",
      "metadata": {
        "id": "9BQ8Lp-s0vnm"
      },
      "source": [
        "## Dictionaries\n",
        "* list of key/value pairs\n",
        "* associative array, hash, hashmaps, etc.\n",
        "* new in Python 3.6 dicts retain insertion order by default: FIFO ordering\n",
        "  * see https://mail.python.org/pipermail/python-dev/2016-September/146327.html"
      ]
    },
    {
      "cell_type": "code",
      "execution_count": 47,
      "metadata": {
        "tags": [],
        "colab": {
          "base_uri": "https://localhost:8080/"
        },
        "id": "yCGhw5yH0vnn",
        "outputId": "e934df66-f5db-4b78-c497-2846a41a420c"
      },
      "outputs": [
        {
          "output_type": "stream",
          "name": "stdout",
          "text": [
            "{'red': 0, 'blue': 9, 'green': 2, 'yellow': -1}\n"
          ]
        }
      ],
      "source": [
        "dict = { 'red': 0, 'blue': 1, 'green': 2 }\n",
        "dict['blue'] = 9\n",
        "dict['yellow'] = -1\n",
        "print(dict)"
      ]
    },
    {
      "cell_type": "code",
      "execution_count": 48,
      "metadata": {
        "tags": [],
        "colab": {
          "base_uri": "https://localhost:8080/"
        },
        "id": "EaBBNdrC0vnn",
        "outputId": "b23b7ee1-de2d-42f2-a4e1-51b4a634d4cb"
      },
      "outputs": [
        {
          "output_type": "stream",
          "name": "stdout",
          "text": [
            "{'tall': 12, 'grande': 16, 'venti': 20}\n"
          ]
        }
      ],
      "source": [
        "dict = {}\n",
        "dict['tall'] = 12\n",
        "dict['grande'] = 16\n",
        "dict['venti'] = 20\n",
        "print(dict)"
      ]
    },
    {
      "cell_type": "code",
      "execution_count": 49,
      "metadata": {
        "tags": [],
        "colab": {
          "base_uri": "https://localhost:8080/"
        },
        "id": "UL-3AdaZ0vnn",
        "outputId": "6b23dc7b-6b87-4c98-e707-a917a6fe7aff"
      },
      "outputs": [
        {
          "output_type": "stream",
          "name": "stdout",
          "text": [
            "keys are dict_keys(['tall', 'grande', 'venti'])\n",
            "values are dict_values([12, 16, 20])\n",
            "items are dict_items([('tall', 12), ('grande', 16), ('venti', 20)])\n"
          ]
        }
      ],
      "source": [
        "# keys() function is a view, which is dynamic\n",
        "#keys = dict.keys()\n",
        "#Python2_keys = list(dict.keys())\n",
        "# a snapshot of the keys() gives us a static list\n",
        "print('keys are', dict.keys())\n",
        "print('values are', dict.values())\n",
        "print('items are', dict.items())"
      ]
    },
    {
      "cell_type": "code",
      "execution_count": 50,
      "metadata": {
        "tags": [],
        "colab": {
          "base_uri": "https://localhost:8080/",
          "height": 172
        },
        "id": "UPnDcYFF0vno",
        "outputId": "c4f8805f-4a56-45a3-ea90-0b84ea3832dc"
      },
      "outputs": [
        {
          "output_type": "error",
          "ename": "NameError",
          "evalue": "ignored",
          "traceback": [
            "\u001b[0;31m---------------------------------------------------------------------------\u001b[0m",
            "\u001b[0;31mNameError\u001b[0m                                 Traceback (most recent call last)",
            "\u001b[0;32m<ipython-input-50-5a39670f9e54>\u001b[0m in \u001b[0;36m<module>\u001b[0;34m\u001b[0m\n\u001b[0;32m----> 1\u001b[0;31m \u001b[0mprint\u001b[0m\u001b[0;34m(\u001b[0m\u001b[0md\u001b[0m\u001b[0;34m.\u001b[0m\u001b[0mkeys\u001b[0m\u001b[0;34m(\u001b[0m\u001b[0;34m)\u001b[0m\u001b[0;34m)\u001b[0m\u001b[0;34m\u001b[0m\u001b[0;34m\u001b[0m\u001b[0m\n\u001b[0m",
            "\u001b[0;31mNameError\u001b[0m: name 'd' is not defined"
          ]
        }
      ],
      "source": [
        "print(d.keys())"
      ]
    },
    {
      "cell_type": "code",
      "execution_count": 51,
      "metadata": {
        "colab": {
          "base_uri": "https://localhost:8080/"
        },
        "id": "QL5UAtZM0vno",
        "outputId": "69a4762c-fa74-4281-fe25-af24240d5dbf"
      },
      "outputs": [
        {
          "output_type": "execute_result",
          "data": {
            "text/plain": [
              "dict_keys(['tall', 'grande', 'venti', 'trenta'])"
            ]
          },
          "metadata": {},
          "execution_count": 51
        }
      ],
      "source": [
        "# now add to the dict...\n",
        "dict['trenta'] = 30\n",
        "dict.keys()"
      ]
    },
    {
      "cell_type": "code",
      "execution_count": 52,
      "metadata": {
        "id": "TqYi1_tH0vno"
      },
      "outputs": [],
      "source": [
        "d = dict"
      ]
    },
    {
      "cell_type": "code",
      "execution_count": 53,
      "metadata": {
        "tags": [],
        "colab": {
          "base_uri": "https://localhost:8080/"
        },
        "id": "kOVAy0vG0vnp",
        "outputId": "7a93807e-b590-457e-bd90-4664ed893be8"
      },
      "outputs": [
        {
          "output_type": "stream",
          "name": "stdout",
          "text": [
            "dict_keys(['tall', 'grande', 'venti', 'trenta'])\n",
            "dict_keys(['tall', 'grande', 'venti', 'trenta', 'lots'])\n"
          ]
        }
      ],
      "source": [
        "aa = dict.keys()\n",
        "print(aa)\n",
        "dict['lots'] = 64\n",
        "print(aa)"
      ]
    },
    {
      "cell_type": "code",
      "execution_count": 54,
      "metadata": {
        "id": "YpJzns4C0vnp"
      },
      "outputs": [],
      "source": [
        "# not all elements need to have the same type\n",
        "dict['happy'] = ['pooh', 'bear']"
      ]
    },
    {
      "cell_type": "code",
      "execution_count": 55,
      "metadata": {
        "colab": {
          "base_uri": "https://localhost:8080/"
        },
        "id": "wnnn1xhQ0vnp",
        "outputId": "30d84f92-b3bd-4007-e0c5-155c81d19172"
      },
      "outputs": [
        {
          "output_type": "execute_result",
          "data": {
            "text/plain": [
              "{'tall': 12,\n",
              " 'grande': 16,\n",
              " 'venti': 20,\n",
              " 'trenta': 30,\n",
              " 'lots': 64,\n",
              " 'happy': ['pooh', 'bear']}"
            ]
          },
          "metadata": {},
          "execution_count": 55
        }
      ],
      "source": [
        "dict"
      ]
    },
    {
      "cell_type": "code",
      "execution_count": 56,
      "metadata": {
        "colab": {
          "base_uri": "https://localhost:8080/",
          "height": 209
        },
        "id": "k71AT1R40vnq",
        "outputId": "451251fc-5db4-4554-dd33-de610b304270"
      },
      "outputs": [
        {
          "output_type": "error",
          "ename": "TypeError",
          "evalue": "ignored",
          "traceback": [
            "\u001b[0;31m---------------------------------------------------------------------------\u001b[0m",
            "\u001b[0;31mTypeError\u001b[0m                                 Traceback (most recent call last)",
            "\u001b[0;32m<ipython-input-56-0583152f7cd2>\u001b[0m in \u001b[0;36m<module>\u001b[0;34m\u001b[0m\n\u001b[1;32m      1\u001b[0m \u001b[0;31m# You cannot use mutable types or other unhashables\u001b[0m\u001b[0;34m\u001b[0m\u001b[0;34m\u001b[0m\u001b[0;34m\u001b[0m\u001b[0m\n\u001b[1;32m      2\u001b[0m \u001b[0;31m# This is a gotcha.  Lists cannot be the key.\u001b[0m\u001b[0;34m\u001b[0m\u001b[0;34m\u001b[0m\u001b[0;34m\u001b[0m\u001b[0m\n\u001b[0;32m----> 3\u001b[0;31m \u001b[0mdict\u001b[0m\u001b[0;34m[\u001b[0m\u001b[0;34m[\u001b[0m\u001b[0;34m'pooh'\u001b[0m\u001b[0;34m,\u001b[0m \u001b[0;34m'bear'\u001b[0m\u001b[0;34m]\u001b[0m\u001b[0;34m]\u001b[0m \u001b[0;34m=\u001b[0m \u001b[0;34m'tigger'\u001b[0m\u001b[0;34m\u001b[0m\u001b[0;34m\u001b[0m\u001b[0m\n\u001b[0m",
            "\u001b[0;31mTypeError\u001b[0m: unhashable type: 'list'"
          ]
        }
      ],
      "source": [
        "# You cannot use mutable types or other unhashables\n",
        "# This is a gotcha.  Lists cannot be the key.  \n",
        "dict[['pooh', 'bear']] = 'tigger'"
      ]
    },
    {
      "cell_type": "markdown",
      "metadata": {
        "id": "BFokyfwZ0vnq"
      },
      "source": [
        "But dictionaries are commonly a key (especially when processing nested json that gets converted to nested dictionaries for example in pySpark) so we can use a frozendict"
      ]
    },
    {
      "cell_type": "code",
      "execution_count": null,
      "metadata": {
        "id": "THKJ2rTw0vnq"
      },
      "outputs": [],
      "source": [
        "# If you already have frozendict installed, then this is not necessary.  \n",
        "# Otherwise uncomment the next line\n",
        "# !conda install -y frozendict"
      ]
    },
    {
      "cell_type": "code",
      "execution_count": 57,
      "metadata": {
        "colab": {
          "base_uri": "https://localhost:8080/",
          "height": 393
        },
        "id": "2jTRn35Q0vnq",
        "outputId": "7a12352d-8e89-4de8-d76c-a84440872aec"
      },
      "outputs": [
        {
          "output_type": "error",
          "ename": "ModuleNotFoundError",
          "evalue": "ignored",
          "traceback": [
            "\u001b[0;31m---------------------------------------------------------------------------\u001b[0m",
            "\u001b[0;31mModuleNotFoundError\u001b[0m                       Traceback (most recent call last)",
            "\u001b[0;32m<ipython-input-57-028d512fad29>\u001b[0m in \u001b[0;36m<module>\u001b[0;34m\u001b[0m\n\u001b[0;32m----> 1\u001b[0;31m \u001b[0;32mfrom\u001b[0m \u001b[0mfrozendict\u001b[0m \u001b[0;32mimport\u001b[0m \u001b[0mfrozendict\u001b[0m\u001b[0;34m\u001b[0m\u001b[0;34m\u001b[0m\u001b[0m\n\u001b[0m\u001b[1;32m      2\u001b[0m \u001b[0;34m\u001b[0m\u001b[0m\n\u001b[1;32m      3\u001b[0m \u001b[0mfd\u001b[0m \u001b[0;34m=\u001b[0m \u001b[0mfrozendict\u001b[0m\u001b[0;34m(\u001b[0m\u001b[0;34m{\u001b[0m \u001b[0;34m'pooh'\u001b[0m\u001b[0;34m:\u001b[0m \u001b[0;34m'bear'\u001b[0m \u001b[0;34m}\u001b[0m\u001b[0;34m)\u001b[0m\u001b[0;34m\u001b[0m\u001b[0;34m\u001b[0m\u001b[0m\n\u001b[1;32m      4\u001b[0m \u001b[0;34m\u001b[0m\u001b[0m\n\u001b[1;32m      5\u001b[0m \u001b[0mprint\u001b[0m\u001b[0;34m(\u001b[0m\u001b[0mfd\u001b[0m\u001b[0;34m)\u001b[0m\u001b[0;34m\u001b[0m\u001b[0;34m\u001b[0m\u001b[0m\n",
            "\u001b[0;31mModuleNotFoundError\u001b[0m: No module named 'frozendict'",
            "",
            "\u001b[0;31m---------------------------------------------------------------------------\u001b[0;32m\nNOTE: If your import is failing due to a missing package, you can\nmanually install dependencies using either !pip or !apt.\n\nTo view examples of installing some common dependencies, click the\n\"Open Examples\" button below.\n\u001b[0;31m---------------------------------------------------------------------------\u001b[0m\n"
          ],
          "errorDetails": {
            "actions": [
              {
                "action": "open_url",
                "actionText": "Open Examples",
                "url": "/notebooks/snippets/importing_libraries.ipynb"
              }
            ]
          }
        }
      ],
      "source": [
        "from frozendict import frozendict\n",
        "\n",
        "fd = frozendict({ 'pooh': 'bear' })\n",
        "\n",
        "print(fd)\n",
        "dict[fd] = 'tigger'"
      ]
    },
    {
      "cell_type": "markdown",
      "metadata": {
        "id": "ZoBnK_uf0vnr"
      },
      "source": [
        "## Slicing \n",
        "* When reaching into data structures we can use multiple slicing operators []\n",
        "* Take a moment and predict what the next cell will produce"
      ]
    },
    {
      "cell_type": "code",
      "execution_count": 58,
      "metadata": {
        "colab": {
          "base_uri": "https://localhost:8080/"
        },
        "id": "bgoTVTgv0vnr",
        "outputId": "d2101e2d-565d-4e11-b1d8-991adfda1a90"
      },
      "outputs": [
        {
          "output_type": "stream",
          "name": "stdout",
          "text": [
            "re\n"
          ]
        }
      ],
      "source": [
        "print(d['happy'][1][::-2])"
      ]
    },
    {
      "cell_type": "code",
      "execution_count": 58,
      "metadata": {
        "id": "plRvEbKA0vnr"
      },
      "outputs": [],
      "source": []
    }
  ],
  "metadata": {
    "celltoolbar": "Slideshow",
    "kernelspec": {
      "display_name": "Python 3.9.10 ('int_py39')",
      "language": "python",
      "name": "python3"
    },
    "language_info": {
      "codemirror_mode": {
        "name": "ipython",
        "version": 3
      },
      "file_extension": ".py",
      "mimetype": "text/x-python",
      "name": "python",
      "nbconvert_exporter": "python",
      "pygments_lexer": "ipython3",
      "version": "3.9.10"
    },
    "vscode": {
      "interpreter": {
        "hash": "a131790579ebc573d4bbf4cea7f8d82f0b3d82b3d3b1e2f5f9012c96a494e8dc"
      }
    },
    "colab": {
      "provenance": [],
      "include_colab_link": true
    }
  },
  "nbformat": 4,
  "nbformat_minor": 0
}